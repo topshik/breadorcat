{
 "cells": [
  {
   "cell_type": "code",
   "execution_count": 1,
   "metadata": {},
   "outputs": [],
   "source": [
    "import datetime\n",
    "from IPython import display\n",
    "import os\n",
    "\n",
    "import torch\n",
    "from torch.optim.lr_scheduler import ReduceLROnPlateau\n",
    "from torch.utils.data import DataLoader\n",
    "from torch.utils.tensorboard import SummaryWriter\n",
    "import torchvision\n",
    "from torchvision import transforms\n",
    "\n",
    "from tqdm import tqdm"
   ]
  },
  {
   "cell_type": "code",
   "execution_count": 2,
   "metadata": {},
   "outputs": [
    {
     "name": "stdout",
     "output_type": "stream",
     "text": [
      "Using GPU\n",
      "5630 training images\n",
      "1332 test images\n",
      "Train/test dataloaders have 5630 and 1332 batches\n"
     ]
    }
   ],
   "source": [
    "# set up device\n",
    "use_cuda = torch.cuda.is_available()\n",
    "\n",
    "if use_cuda:\n",
    "    device = torch.device(\"cuda\")\n",
    "    print(\"Using GPU\")\n",
    "else:\n",
    "    dtype = torch.FloatTensor\n",
    "    device = torch.device(\"cpu\")\n",
    "    print(\"Not using GPU\")\n",
    "    \n",
    "# load data\n",
    "transform = {\n",
    "    'train': transforms.Compose(\n",
    "        [\n",
    "            transforms.Resize((128, 128)),\n",
    "            transforms.RandomHorizontalFlip(),\n",
    "            transforms.RandomRotation(30),\n",
    "            transforms.ColorJitter(brightness=0.1, contrast=0.1, saturation=0.05, hue=0.05),\n",
    "            transforms.ToTensor(),\n",
    "        ]),\n",
    "    'test': transforms.Compose(\n",
    "        [\n",
    "            transforms.Resize((128, 128)),\n",
    "            transforms.ToTensor(),\n",
    "        ])\n",
    "}\n",
    "train_dataset = torchvision.datasets.ImageFolder('data/train', transform=transform['train'])\n",
    "test_dataset  = torchvision.datasets.ImageFolder('data/test', transform=transform['test'])\n",
    "\n",
    "class_names = train_dataset.classes\n",
    "print(f'{len(train_dataset)} training images')\n",
    "print(f'{len( test_dataset)} test images')\n",
    "image, label = train_dataset[50]\n",
    "\n",
    "BATCH_SIZE = 1\n",
    "NUM_WORKERS = 10\n",
    "\n",
    "train_dataloader = DataLoader(train_dataset, batch_size=BATCH_SIZE, num_workers=NUM_WORKERS, \n",
    "                              shuffle=True, pin_memory=True)\n",
    "\n",
    "test_dataloader = DataLoader(test_dataset, batch_size=BATCH_SIZE, num_workers=NUM_WORKERS, \n",
    "                            shuffle=False, pin_memory=True)\n",
    "\n",
    "print(f\"Train/test dataloaders have {len(train_dataloader)} and {len(test_dataloader)} batches\")"
   ]
  },
  {
   "cell_type": "code",
   "execution_count": 3,
   "metadata": {},
   "outputs": [],
   "source": [
    "class TonyNet(torch.nn.Module):\n",
    "    def __init__(self, vgg):\n",
    "        super(TonyNet, self).__init__()\n",
    "        features = []\n",
    "        for i, module in enumerate(vgg.features):\n",
    "            if i <= 23:\n",
    "                features.append(module)\n",
    "        self.features = torch.nn.Sequential(*features)\n",
    "        self.avg_pool = torch.nn.AdaptiveAvgPool2d(output_size=(7, 7))\n",
    "        self.classifier = torch.nn.Sequential(torch.nn.Linear(7 * 7 * 512, 2048),\n",
    "                                              torch.nn.ReLU(inplace=True),\n",
    "                                              torch.nn.Dropout(),\n",
    "                                              torch.nn.Linear(2048, 1024),\n",
    "                                              torch.nn.ReLU(inplace=True),\n",
    "                                              torch.nn.Dropout(),\n",
    "                                              torch.nn.Linear(1024, 3))\n",
    "        \n",
    "        \n",
    "    def forward(self, x):\n",
    "        feats = self.features(x)\n",
    "        pooled = self.avg_pool(feats)\n",
    "        fltnd = torch.nn.Flatten()(pooled)\n",
    "        return self.classifier(fltnd)"
   ]
  },
  {
   "cell_type": "code",
   "execution_count": 4,
   "metadata": {},
   "outputs": [],
   "source": [
    "def train(model, train_dataloader, val_dataloader, opt, criterion, n_epochs=100, chckpnt_path='./checkpoint.pth'):\n",
    "    date = datetime.datetime.now().strftime(\"%b-%d-%Y-%H:%M:%S\")\n",
    "    writer_train = SummaryWriter(f'runs/{date}/train')\n",
    "    writer_test = SummaryWriter(f'runs/{date}/test')\n",
    "    scheduler = ReduceLROnPlateau(opt, factor=0.5)\n",
    "    best_acc = 0\n",
    "\n",
    "    for i in range(n_epochs):\n",
    "        model.train()\n",
    "        correct, total = 0, 0\n",
    "        for j, (images, labels) in enumerate(tqdm(train_dataloader)):\n",
    "            probs = model(images.to(device))\n",
    "            with torch.no_grad():\n",
    "                labels = labels.to(device)\n",
    "                predictions = probs.max(1)[1]\n",
    "\n",
    "                total += len(labels)\n",
    "                correct += (predictions == labels).sum().item()\n",
    "\n",
    "            loss = criterion(probs, labels)\n",
    "            writer_train.add_scalar('Loss', loss, i * len(train_dataloader) + j)\n",
    "\n",
    "            optimizer.zero_grad()\n",
    "            loss.backward()\n",
    "            optimizer.step()\n",
    "        train_acc = correct / total\n",
    "        writer_train.add_scalar('Accuracy', train_acc, i)\n",
    "\n",
    "        model.eval()\n",
    "        correct, total = 0, 0\n",
    "        for j, (images, labels) in enumerate(tqdm(val_dataloader)):\n",
    "            probs = model(images.to(device))\n",
    "            labels = labels.to(device)\n",
    "            predictions = probs.max(1)[1]\n",
    "            total += len(labels)\n",
    "            correct += (predictions == labels).sum().item()\n",
    "            val_loss = criterion(probs, labels)\n",
    "#                 scheduler.step(test_loss)\n",
    "            writer_test.add_scalar('Loss', val_loss, \n",
    "                                   (i * len(val_dataloader) + j) * len(train_dataloader) / len(val_dataloader))\n",
    "        val_acc = correct / total\n",
    "        writer_test.add_scalar('Accuracy', val_acc, i)\n",
    "        display.clear_output(True)\n",
    "        print(f'Epoch number: {i}')\n",
    "        print(f'Train accuracy: {train_acc}')\n",
    "        print(f'Validation accuracy: {val_acc}')\n",
    "        if val_acc > best_acc:\n",
    "            torch.save(model.state_dict(), chckpnt_path)\n",
    "            best_acc = val_acc\n",
    "        \n",
    "    return train_acc, val_acc"
   ]
  },
  {
   "cell_type": "code",
   "execution_count": 5,
   "metadata": {},
   "outputs": [
    {
     "name": "stderr",
     "output_type": "stream",
     "text": [
      "\r",
      "  0%|          | 0/88 [00:00<?, ?it/s]"
     ]
    },
    {
     "name": "stdout",
     "output_type": "stream",
     "text": [
      "Epoch number: 53\n",
      "Train accuracy: 0.9877442273534636\n",
      "Validation accuracy: 0.9677177177177178\n"
     ]
    },
    {
     "name": "stderr",
     "output_type": "stream",
     "text": [
      " 70%|███████   | 62/88 [00:14<00:05,  4.73it/s]"
     ]
    },
    {
     "ename": "KeyboardInterrupt",
     "evalue": "",
     "output_type": "error",
     "traceback": [
      "\u001b[0;31m---------------------------------------------------------------------------\u001b[0m",
      "\u001b[0;31mKeyboardInterrupt\u001b[0m                         Traceback (most recent call last)",
      "\u001b[0;32m<ipython-input-5-40c9bdd1af4b>\u001b[0m in \u001b[0;36m<module>\u001b[0;34m\u001b[0m\n\u001b[1;32m      5\u001b[0m \u001b[0moptimizer\u001b[0m \u001b[0;34m=\u001b[0m \u001b[0mtorch\u001b[0m\u001b[0;34m.\u001b[0m\u001b[0moptim\u001b[0m\u001b[0;34m.\u001b[0m\u001b[0mAdam\u001b[0m\u001b[0;34m(\u001b[0m\u001b[0mtony_net\u001b[0m\u001b[0;34m.\u001b[0m\u001b[0mparameters\u001b[0m\u001b[0;34m(\u001b[0m\u001b[0;34m)\u001b[0m\u001b[0;34m,\u001b[0m \u001b[0mlr\u001b[0m\u001b[0;34m=\u001b[0m\u001b[0mlearning_rate\u001b[0m\u001b[0;34m)\u001b[0m\u001b[0;34m\u001b[0m\u001b[0;34m\u001b[0m\u001b[0m\n\u001b[1;32m      6\u001b[0m \u001b[0mcriterion\u001b[0m \u001b[0;34m=\u001b[0m \u001b[0mtorch\u001b[0m\u001b[0;34m.\u001b[0m\u001b[0mnn\u001b[0m\u001b[0;34m.\u001b[0m\u001b[0mCrossEntropyLoss\u001b[0m\u001b[0;34m(\u001b[0m\u001b[0;34m)\u001b[0m\u001b[0;34m\u001b[0m\u001b[0;34m\u001b[0m\u001b[0m\n\u001b[0;32m----> 7\u001b[0;31m \u001b[0mtrain_acc\u001b[0m\u001b[0;34m,\u001b[0m \u001b[0mtest_acc\u001b[0m \u001b[0;34m=\u001b[0m \u001b[0mtrain\u001b[0m\u001b[0;34m(\u001b[0m\u001b[0mtony_net\u001b[0m\u001b[0;34m,\u001b[0m \u001b[0mtrain_dataloader\u001b[0m\u001b[0;34m,\u001b[0m \u001b[0mtest_dataloader\u001b[0m\u001b[0;34m,\u001b[0m \u001b[0moptimizer\u001b[0m\u001b[0;34m,\u001b[0m \u001b[0mcriterion\u001b[0m\u001b[0;34m,\u001b[0m \u001b[0mn_epochs\u001b[0m\u001b[0;34m=\u001b[0m\u001b[0;36m400\u001b[0m\u001b[0;34m)\u001b[0m\u001b[0;34m\u001b[0m\u001b[0;34m\u001b[0m\u001b[0m\n\u001b[0m",
      "\u001b[0;32m<ipython-input-4-67cc4582ace7>\u001b[0m in \u001b[0;36mtrain\u001b[0;34m(model, train_dataloader, val_dataloader, opt, criterion, n_epochs, chckpnt_path)\u001b[0m\n\u001b[1;32m     12\u001b[0m             \u001b[0mprobs\u001b[0m \u001b[0;34m=\u001b[0m \u001b[0mmodel\u001b[0m\u001b[0;34m(\u001b[0m\u001b[0mimages\u001b[0m\u001b[0;34m.\u001b[0m\u001b[0mto\u001b[0m\u001b[0;34m(\u001b[0m\u001b[0mdevice\u001b[0m\u001b[0;34m)\u001b[0m\u001b[0;34m)\u001b[0m\u001b[0;34m\u001b[0m\u001b[0;34m\u001b[0m\u001b[0m\n\u001b[1;32m     13\u001b[0m             \u001b[0;32mwith\u001b[0m \u001b[0mtorch\u001b[0m\u001b[0;34m.\u001b[0m\u001b[0mno_grad\u001b[0m\u001b[0;34m(\u001b[0m\u001b[0;34m)\u001b[0m\u001b[0;34m:\u001b[0m\u001b[0;34m\u001b[0m\u001b[0;34m\u001b[0m\u001b[0m\n\u001b[0;32m---> 14\u001b[0;31m                 \u001b[0mlabels\u001b[0m \u001b[0;34m=\u001b[0m \u001b[0mlabels\u001b[0m\u001b[0;34m.\u001b[0m\u001b[0mto\u001b[0m\u001b[0;34m(\u001b[0m\u001b[0mdevice\u001b[0m\u001b[0;34m)\u001b[0m\u001b[0;34m\u001b[0m\u001b[0;34m\u001b[0m\u001b[0m\n\u001b[0m\u001b[1;32m     15\u001b[0m                 \u001b[0mpredictions\u001b[0m \u001b[0;34m=\u001b[0m \u001b[0mprobs\u001b[0m\u001b[0;34m.\u001b[0m\u001b[0mmax\u001b[0m\u001b[0;34m(\u001b[0m\u001b[0;36m1\u001b[0m\u001b[0;34m)\u001b[0m\u001b[0;34m[\u001b[0m\u001b[0;36m1\u001b[0m\u001b[0;34m]\u001b[0m\u001b[0;34m\u001b[0m\u001b[0;34m\u001b[0m\u001b[0m\n\u001b[1;32m     16\u001b[0m \u001b[0;34m\u001b[0m\u001b[0m\n",
      "\u001b[0;31mKeyboardInterrupt\u001b[0m: "
     ]
    }
   ],
   "source": [
    "vgg16 = torchvision.models.vgg16()\n",
    "tony_net = TonyNet(vgg16)\n",
    "tony_net.to(device)\n",
    "learning_rate = 1e-4\n",
    "optimizer = torch.optim.Adam(tony_net.parameters(), lr=learning_rate)\n",
    "criterion = torch.nn.CrossEntropyLoss()\n",
    "train_acc, test_acc = train(tony_net, train_dataloader, test_dataloader, optimizer, criterion, n_epochs=400)"
   ]
  },
  {
   "cell_type": "code",
   "execution_count": 6,
   "metadata": {},
   "outputs": [
    {
     "name": "stderr",
     "output_type": "stream",
     "text": [
      "100%|██████████| 1332/1332 [01:03<00:00, 20.89it/s]\n"
     ]
    }
   ],
   "source": [
    "vgg16 = torchvision.models.vgg16()\n",
    "criterion = torch.nn.CrossEntropyLoss()\n",
    "\n",
    "device = 'cpu'\n",
    "\n",
    "tony_net_loaded = TonyNet(vgg16)\n",
    "tony_net_loaded.load_state_dict(torch.load('checkpoint.pth', map_location='cpu'))\n",
    "tony_net_loaded.to(device)\n",
    "tony_net_loaded.eval()\n",
    "correct, total = 0, 0\n",
    "for j, (images, labels) in enumerate(tqdm(test_dataloader)):\n",
    "    with torch.no_grad():\n",
    "        probs = tony_net_loaded(images.to(device))\n",
    "        labels = labels.to(device)\n",
    "        predictions = probs.max(1)[1]\n",
    "        total += len(labels)\n",
    "        correct += (predictions == labels).sum().item()\n",
    "        val_loss = criterion(probs, labels)"
   ]
  },
  {
   "cell_type": "code",
   "execution_count": 7,
   "metadata": {},
   "outputs": [
    {
     "name": "stdout",
     "output_type": "stream",
     "text": [
      "Validation accuracy: 97.45%\n"
     ]
    }
   ],
   "source": [
    "val_accuracy = 100 * correct / total\n",
    "print(\"Validation accuracy: %.2f%%\" % val_accuracy)"
   ]
  },
  {
   "cell_type": "code",
   "execution_count": 5,
   "metadata": {},
   "outputs": [],
   "source": [
    "vgg16 = torchvision.models.vgg16()"
   ]
  },
  {
   "cell_type": "code",
   "execution_count": 8,
   "metadata": {},
   "outputs": [
    {
     "name": "stdout",
     "output_type": "stream",
     "text": [
      "369 ms ± 3.43 ms per loop (mean ± std. dev. of 7 runs, 1 loop each)\n"
     ]
    }
   ],
   "source": [
    "%%timeit \n",
    "tony_net_loaded = TonyNet(vgg16)\n",
    "device = 'cpu'\n",
    "tony_net_loaded.load_state_dict(torch.load('checkpoint.pth', map_location='cpu'))\n",
    "tony_net_loaded.to(device)\n",
    "tony_net_loaded.eval()"
   ]
  },
  {
   "cell_type": "code",
   "execution_count": null,
   "metadata": {},
   "outputs": [],
   "source": []
  }
 ],
 "metadata": {
  "kernelspec": {
   "display_name": "Python 3",
   "language": "python",
   "name": "python3"
  },
  "language_info": {
   "codemirror_mode": {
    "name": "ipython",
    "version": 3
   },
   "file_extension": ".py",
   "mimetype": "text/x-python",
   "name": "python",
   "nbconvert_exporter": "python",
   "pygments_lexer": "ipython3",
   "version": "3.6.9"
  }
 },
 "nbformat": 4,
 "nbformat_minor": 2
}
